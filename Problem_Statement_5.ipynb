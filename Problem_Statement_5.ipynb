{
  "nbformat": 4,
  "nbformat_minor": 0,
  "metadata": {
    "colab": {
      "provenance": []
    },
    "kernelspec": {
      "name": "python3",
      "display_name": "Python 3"
    },
    "language_info": {
      "name": "python"
    }
  },
  "cells": [
    {
      "cell_type": "markdown",
      "source": [
        "Write a Python function that accepts a string and calculates the number of uppercase letters and lower case letters.\n",
        "\n",
        "\n",
        "\n",
        "Sample String : 'The quick Brow Fox'\n",
        "\n",
        "Expected Output :\n",
        "\n",
        "No. of Upper case characters : 3\n",
        "\n",
        "No. of Lower case Characters : 12"
      ],
      "metadata": {
        "id": "SG_922aLLHDr"
      }
    },
    {
      "cell_type": "code",
      "source": [
        "str='The quick Brow Fox'\n",
        "upp_case=0\n",
        "low_case=0\n",
        "for e in str:\n",
        "      if(e.isupper()):\n",
        "            upp_case=upp_case+1\n",
        "      elif(e.islower()):\n",
        "            low_case=low_case+1\n",
        "print(\"No. of Upper case characters:\",upp_case)\n",
        "print(\"No. of Lower case characters:\",low_case)"
      ],
      "metadata": {
        "colab": {
          "base_uri": "https://localhost:8080/"
        },
        "id": "AJlZHuDoMiJy",
        "outputId": "dbacc103-9552-4090-c625-da41fec81be2"
      },
      "execution_count": null,
      "outputs": [
        {
          "output_type": "stream",
          "name": "stdout",
          "text": [
            "No. of Upper case characters: 3\n",
            "No. of Lower case characters: 12\n"
          ]
        }
      ]
    }
  ]
}