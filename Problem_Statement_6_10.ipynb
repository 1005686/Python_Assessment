{
  "nbformat": 4,
  "nbformat_minor": 0,
  "metadata": {
    "colab": {
      "provenance": [],
      "authorship_tag": "ABX9TyO8BNY0rSZNvpywbw3K/BC9",
      "include_colab_link": true
    },
    "kernelspec": {
      "name": "python3",
      "display_name": "Python 3"
    },
    "language_info": {
      "name": "python"
    }
  },
  "cells": [
    {
      "cell_type": "markdown",
      "metadata": {
        "id": "view-in-github",
        "colab_type": "text"
      },
      "source": [
        "<a href=\"https://colab.research.google.com/github/1005686/Python_Assessment/blob/main/Problem_Statement_6_10.ipynb\" target=\"_parent\"><img src=\"https://colab.research.google.com/assets/colab-badge.svg\" alt=\"Open In Colab\"/></a>"
      ]
    },
    {
      "cell_type": "markdown",
      "source": [
        "Challenge 1: Square Numbers and Return Their Sum"
      ],
      "metadata": {
        "id": "9bZcOkuHY7sy"
      }
    },
    {
      "cell_type": "code",
      "execution_count": null,
      "metadata": {
        "colab": {
          "base_uri": "https://localhost:8080/"
        },
        "id": "rIIVrnHU6lGY",
        "outputId": "d1bf4a61-8d52-4f1a-d320-04e0ecd09480"
      },
      "outputs": [
        {
          "output_type": "stream",
          "name": "stdout",
          "text": [
            "Sum of Squares of values: 35\n"
          ]
        }
      ],
      "source": [
        "#Task1: Implement a constructor to initialize the values of three properties: x, y, and z.\n",
        "class Point:\n",
        "  def __init__(self,x,y,z):\n",
        "    self.x=x\n",
        "    self.y=y\n",
        "    self.z=z\n",
        "\n",
        "#Task2: Implement a method, sqSum(), in the Point class which squares x, y, and z and returns their sum.\n",
        "  def sqSum(self):\n",
        "    return self.x**2+ self.y**2 + self.z**2\n",
        "\n",
        "#Printing the sum of squares of 3 values\n",
        "\n",
        "values=Point(1,3,5)\n",
        "sqsum=values.sqSum()\n",
        "print (\"Sum of Squares of values:\", sqsum)"
      ]
    },
    {
      "cell_type": "markdown",
      "source": [
        "Challenge 2: Implement a Calculator Class"
      ],
      "metadata": {
        "id": "xv9jjBry-rAo"
      }
    },
    {
      "cell_type": "code",
      "source": [
        "#Task1:Initializer - Implement an initializer to initialize the values of num1 and num2. Properties\n",
        "class Calculator:\n",
        "\n",
        "  def __init__(self,num1,num2):\n",
        "    self.num1=num1\n",
        "    self.num2=num2\n",
        "\n",
        "#Task2: Methods\n",
        "\n",
        "  def add(self):\n",
        "    return self.num1+self.num2\n",
        "\n",
        "  def subtract(self):\n",
        "    return self.num2-self.num1\n",
        "\n",
        "  def multiply(self):\n",
        "    return self.num1*self.num2\n",
        "\n",
        "  def divide(self):\n",
        "    return self.num2/self.num1\n",
        "\n",
        "obj=Calculator(10,94)\n",
        "addition=obj.add()\n",
        "print(\"Addition of\",obj.num1,\",\",obj.num2,\"is\",addition)\n",
        "subtraction=obj.subtract()\n",
        "print(\"Subtraction of\",obj.num2,\",\",obj.num1,\"is\",subtraction)\n",
        "multiply=obj.multiply()\n",
        "print(\"Multiplication of\",obj.num1,\",\",obj.num2,\"is\",multiply)\n",
        "divide=obj.divide()\n",
        "print(\"Division of\",obj.num1,\",\",obj.num2,\"is\",divide)\n"
      ],
      "metadata": {
        "colab": {
          "base_uri": "https://localhost:8080/"
        },
        "id": "pVYeykqd-uId",
        "outputId": "624c17fa-c566-47ee-f83c-768d54cd8715"
      },
      "execution_count": null,
      "outputs": [
        {
          "output_type": "stream",
          "name": "stdout",
          "text": [
            "Addition of 10 , 94 is 104\n",
            "Subtractio of 94 , 10 is 84\n",
            "Multiplication of 10 , 94 is 940\n",
            "Division of 10 , 94 is 9.4\n"
          ]
        }
      ]
    },
    {
      "cell_type": "markdown",
      "source": [
        "Challenge 3: Implement the Complete Student Class"
      ],
      "metadata": {
        "id": "mxmqKXV8_Zi5"
      }
    },
    {
      "cell_type": "code",
      "source": [
        "#Implement the name,rollNumber properties as private:\n",
        "#Include the get(),set() methods to get and set the private properties defined above\n",
        "\n",
        "class Student:\n",
        "\n",
        "  def getName(self):\n",
        "    return self.__name\n",
        "\n",
        "  def setName(self,name):\n",
        "    self.__name=name\n",
        "\n",
        "  def getRollNumber(self):\n",
        "    return self.__rollNumber\n",
        "\n",
        "  def setRollNumber(self,rollNumber):\n",
        "    self.__rollNumber=rollNumber\n",
        "\n",
        "  def getGender(self):\n",
        "    return self.__gender\n",
        "\n",
        "  def setGender(self,gender):\n",
        "    self.__gender=gender\n",
        "\n",
        "std=Student()\n",
        "#Using set method to initialize the name property\n",
        "std.setName(\"Teju\")\n",
        "print(\"Student Name:\",std.getName())\n",
        "#Using set method to initialize the rollnumber property\n",
        "std.setRollNumber(111)\n",
        "print(\"RollNumber:\",std.getRollNumber())\n",
        "#setter value is not defined properly, the corresponding getter generates an error even if the getter is defined properly.\n",
        "print(\"Gender:\",std.getgender())\n",
        "\n"
      ],
      "metadata": {
        "colab": {
          "base_uri": "https://localhost:8080/",
          "height": 263
        },
        "id": "ZZYCMoG1_a3Z",
        "outputId": "3545d932-4d45-47b5-e98a-ffb5477bea9c"
      },
      "execution_count": 17,
      "outputs": [
        {
          "output_type": "stream",
          "name": "stdout",
          "text": [
            "Student Name: Teju\n",
            "RollNumber: 111\n"
          ]
        },
        {
          "output_type": "error",
          "ename": "AttributeError",
          "evalue": "ignored",
          "traceback": [
            "\u001b[0;31m---------------------------------------------------------------------------\u001b[0m",
            "\u001b[0;31mAttributeError\u001b[0m                            Traceback (most recent call last)",
            "\u001b[0;32m<ipython-input-17-11ea9e4705ab>\u001b[0m in \u001b[0;36m<cell line: 32>\u001b[0;34m()\u001b[0m\n\u001b[1;32m     30\u001b[0m \u001b[0mprint\u001b[0m\u001b[0;34m(\u001b[0m\u001b[0;34m\"RollNumber:\"\u001b[0m\u001b[0;34m,\u001b[0m\u001b[0mstd\u001b[0m\u001b[0;34m.\u001b[0m\u001b[0mgetRollNumber\u001b[0m\u001b[0;34m(\u001b[0m\u001b[0;34m)\u001b[0m\u001b[0;34m)\u001b[0m\u001b[0;34m\u001b[0m\u001b[0;34m\u001b[0m\u001b[0m\n\u001b[1;32m     31\u001b[0m \u001b[0;31m#setter value is not defined properly, the corresponding getter generates an error even if the getter is defined properly.\u001b[0m\u001b[0;34m\u001b[0m\u001b[0;34m\u001b[0m\u001b[0m\n\u001b[0;32m---> 32\u001b[0;31m \u001b[0mprint\u001b[0m\u001b[0;34m(\u001b[0m\u001b[0;34m\"Gender:\"\u001b[0m\u001b[0;34m,\u001b[0m\u001b[0mstd\u001b[0m\u001b[0;34m.\u001b[0m\u001b[0mgetgender\u001b[0m\u001b[0;34m(\u001b[0m\u001b[0;34m)\u001b[0m\u001b[0;34m)\u001b[0m\u001b[0;34m\u001b[0m\u001b[0;34m\u001b[0m\u001b[0m\n\u001b[0m\u001b[1;32m     33\u001b[0m \u001b[0;34m\u001b[0m\u001b[0m\n",
            "\u001b[0;31mAttributeError\u001b[0m: 'Student' object has no attribute 'getgender'"
          ]
        }
      ]
    },
    {
      "cell_type": "markdown",
      "source": [
        "Challenge 4: Implement a Banking Account"
      ],
      "metadata": {
        "id": "gF-a_9iaDh8n"
      }
    },
    {
      "cell_type": "code",
      "source": [
        "#Task 1:\n",
        "#Implement properties as instance variables, and set them to None or 0.\n",
        "class Account:\n",
        "\n",
        "  def __init__(self,title=None,balance=0):\n",
        "    self.title=title\n",
        "    self.balance=balance\n",
        "\n",
        "#Creting SavingsAccount with interestRate property, derived class from Account class.\n",
        "class SavingsAccount(Account):\n",
        "\n",
        "  def __init__(self,interestRate=0):\n",
        "    self.interestRate=interestRate\n"
      ],
      "metadata": {
        "id": "NpsvQ7NEDtDt"
      },
      "execution_count": 3,
      "outputs": []
    },
    {
      "cell_type": "code",
      "source": [
        "#Task 2:\n",
        "# Create an initializer for Account class. The order of parameters is, Ashish is the title, and 5000 is the account balance: Account(\"Ashish\", 5000)\n",
        "class Account:\n",
        "\n",
        "  def __init__(self,title,balance):\n",
        "    self.title=title\n",
        "    self.balance=balance\n",
        "\n",
        "acc=Account(\"Ashish\",5000)\n",
        "print(acc.title, acc.balance)"
      ],
      "metadata": {
        "colab": {
          "base_uri": "https://localhost:8080/"
        },
        "id": "dhMJEScth-KJ",
        "outputId": "65408b2e-551a-4cee-a876-59b0e738f3b9"
      },
      "execution_count": 4,
      "outputs": [
        {
          "output_type": "stream",
          "name": "stdout",
          "text": [
            "Ashish 5000\n"
          ]
        }
      ]
    },
    {
      "cell_type": "code",
      "source": [
        "#Task 3: Implementing properties as instance variables, and set them to None or 0.\n",
        "class SavingsAccount(Account):\n",
        "\n",
        "  def __init__(self):\n",
        "    super().__init__()\n",
        "    self.interestRate=0"
      ],
      "metadata": {
        "id": "VJ1p-YfUItFB"
      },
      "execution_count": 15,
      "outputs": []
    },
    {
      "cell_type": "code",
      "source": [
        "#Task 4\n",
        "class SavingsAccount(Account):\n",
        "\n",
        "  def __init__(self,title,balance,interestRate):\n",
        "    super().__init__(title,balance)\n",
        "    self.interestRate=interestRate\n",
        "\n",
        "sa=SavingsAccount(\"Ashish\",5000,5)\n",
        "print(\"\\n\", \"Title is\",sa.title,\"\\n\",\"Balance is\", sa.balance,\"\\n\",\"Interest Rate is\", sa.interestRate)"
      ],
      "metadata": {
        "colab": {
          "base_uri": "https://localhost:8080/"
        },
        "id": "4MT4U3hqI6b9",
        "outputId": "b118d652-b0a8-442c-e7f0-a21533a83b95"
      },
      "execution_count": 16,
      "outputs": [
        {
          "output_type": "stream",
          "name": "stdout",
          "text": [
            "\n",
            " Title is Ashish \n",
            " Balance is 5000 \n",
            " Interest Rate is 5\n"
          ]
        }
      ]
    },
    {
      "cell_type": "markdown",
      "source": [
        "Challenge 5: Handling a Bank Account"
      ],
      "metadata": {
        "id": "e3qrNwEJKEGf"
      }
    },
    {
      "cell_type": "code",
      "source": [
        "class Account:\n",
        "\n",
        "  def __init__(self,title=None,balance=0):\n",
        "    self.title=title\n",
        "    self.balance=balance\n",
        "\n",
        "#Task 1: implementing the getBalance() method that returns balance.\n",
        "\n",
        "  def getBalance(self):\n",
        "    return self.balance\n",
        "\n",
        "#Task 2:Implementing the deposit(amount) method that adds amount to the balance.\n",
        "\n",
        "  def deposit(self,amount):\n",
        "    self.balance += amount\n",
        "\n",
        "#Task 3: Implementing the withdrawal(amount) method that subtracts the amount from the balance.\n",
        "  def withdrawal(self,amount):\n",
        "    self.balance -=amount\n",
        "\n",
        "#Task 4:In the SavingsAccount class, implement an interestAmount() method that returns the interest amount of the current balance.\n",
        "\n",
        "class SavingsAccount(Account):\n",
        "  def __init__(self, title=None, balance=0, interestRate=0):\n",
        "            super().__init__(title, balance)\n",
        "            self.interestRate = interestRate\n",
        "\n",
        "  def interestAmount(self):\n",
        "    return int((self.balance * self.interestRate)/100)\n",
        "\n",
        "\n",
        "demo1 =SavingsAccount(\"Ashish\", 2000, 5)\n",
        "print(\"Balance: \",demo1.balance)\n",
        "demo1.interestRate=5\n",
        "interstamount=demo1.interestAmount()\n",
        "print(\"Interest Amount:\",interstamount)\n"
      ],
      "metadata": {
        "colab": {
          "base_uri": "https://localhost:8080/"
        },
        "id": "rLAg_J7lJQt3",
        "outputId": "69748bf6-ed2d-4596-a7a4-1fb2f84de297"
      },
      "execution_count": 14,
      "outputs": [
        {
          "output_type": "stream",
          "name": "stdout",
          "text": [
            "Balance:  2000\n",
            "Interest Amount: 100\n"
          ]
        }
      ]
    }
  ]
}