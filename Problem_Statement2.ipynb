{
  "nbformat": 4,
  "nbformat_minor": 0,
  "metadata": {
    "colab": {
      "provenance": []
    },
    "kernelspec": {
      "name": "python3",
      "display_name": "Python 3"
    },
    "language_info": {
      "name": "python"
    }
  },
  "cells": [
    {
      "cell_type": "markdown",
      "source": [
        "#Phython Assignment\n",
        "## Problem Statement 2\n",
        "Write a program that prompts the user to input number of calls and calculate the monthly telephone bills as per the following rule:\n",
        "\n",
        "● Minimum Rs. 200 for up to 100 calls.\n",
        "\n",
        "● Plus Rs. 0.60 per call for next 50 calls.\n",
        "\n",
        "● Plus Rs. 0.50 per call for next 50 calls.\n",
        "\n",
        "● Plus Rs. 0.40 per call for any call beyond 200 calls."
      ],
      "metadata": {
        "id": "koeXFFX0m7Ty"
      }
    },
    {
      "cell_type": "code",
      "execution_count": null,
      "metadata": {
        "colab": {
          "base_uri": "https://localhost:8080/"
        },
        "id": "HaqXRNk1mMWD",
        "outputId": "ce9cc848-fdc7-41fe-c97c-7c832a1e62cb"
      },
      "outputs": [
        {
          "output_type": "stream",
          "name": "stdout",
          "text": [
            "Enter input number of calls:500\n",
            "Number of calls: 500\n",
            "Telephone bill of this month 405.0\n"
          ]
        }
      ],
      "source": [
        "x= int(input (\"Enter input number of calls:\"))\n",
        "print(\"Number of calls:\", x)\n",
        "mon_tel_bill=0\n",
        "bill=200\n",
        "bill2=0.60\n",
        "bill3=0.50\n",
        "bill4=0.40\n",
        "\n",
        "if x <=100:\n",
        "  mon_tel_bill=bill\n",
        "  print(\"Telephone Bill of this month:\", mon_tel_bill)\n",
        "elif x >100 and x <= 150:\n",
        "  print(\"Telephone bill of this month\",bill+((x-100)*bill2))\n",
        "elif x >150 and x <=200:\n",
        "  print(\"Telephone bill of this month\",bill+30+((x-150)*bill3))\n",
        "elif x >200:\n",
        "  print(\"Telephone bill of this month\",bill+55+((x-200)*bill3))"
      ]
    }
  ]
}