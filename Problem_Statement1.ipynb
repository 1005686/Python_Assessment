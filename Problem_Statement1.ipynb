{
  "nbformat": 4,
  "nbformat_minor": 0,
  "metadata": {
    "colab": {
      "provenance": []
    },
    "kernelspec": {
      "name": "python3",
      "display_name": "Python 3"
    },
    "language_info": {
      "name": "python"
    }
  },
  "cells": [
    {
      "cell_type": "markdown",
      "source": [
        "##Problem Statement:\n",
        "Write a program that computes the net amount of a bank account based on a transaction log from console input. The transaction log / sample input is in the format as shown below:\n",
        "\n",
        "Input\n",
        "\n",
        "log_message = D:100 W:10\n",
        "\n",
        "Output\n",
        "\n",
        "90\n",
        "\n",
        "Input\n",
        "\n",
        "Log_message = D:100 W:200 D:400\n",
        "\n",
        "Output\n",
        "\n",
        "300 (100 - 200 + 400 = 300)"
      ],
      "metadata": {
        "id": "9h1MCB4TR8Ml"
      }
    },
    {
      "cell_type": "code",
      "source": [
        "netamnt= 0\n",
        "while True:\n",
        "    log_msg= input()\n",
        "    if not log_msg:\n",
        "        break\n",
        "    msg=log_msg.split(\":\")\n",
        "    print(msg)\n",
        "    transaction = msg[0]\n",
        "    amount = int(msg[1])\n",
        "    if transaction ==\"D\":\n",
        "        netamnt= netamnt + amount\n",
        "    elif transaction ==\"W\":\n",
        "        netamnt= netamnt - amount\n",
        "    else:\n",
        "        pass\n",
        "print(\"Net Ammount is\",netamnt)"
      ],
      "metadata": {
        "colab": {
          "base_uri": "https://localhost:8080/"
        },
        "id": "w7jh3rwoSDrZ",
        "outputId": "824c032b-13d2-4471-a219-6bb2093a4331"
      },
      "execution_count": 12,
      "outputs": [
        {
          "output_type": "stream",
          "name": "stdout",
          "text": [
            "D:100\n",
            "['D', '100']\n",
            "W:10\n",
            "['W', '10']\n",
            "\n",
            "Net Ammount is 90\n"
          ]
        }
      ]
    }
  ]
}